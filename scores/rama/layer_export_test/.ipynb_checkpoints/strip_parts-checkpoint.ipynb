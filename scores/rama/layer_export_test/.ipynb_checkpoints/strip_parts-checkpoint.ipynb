{
 "cells": [
  {
   "cell_type": "code",
   "execution_count": 50,
   "metadata": {},
   "outputs": [],
   "source": [
    "from xml.dom import minidom"
   ]
  },
  {
   "cell_type": "code",
   "execution_count": 53,
   "metadata": {},
   "outputs": [],
   "source": [
    "\n",
    "def _set_attributes(element, **attributes):\n",
    "    for key, value in attributes.items():\n",
    "        element.setAttribute(key, value)\n",
    "        \n",
    "def create_svg_object():\n",
    "    imp = minidom.getDOMImplementation(features=[('xml', None)])\n",
    "    doctype = imp.createDocumentType(\n",
    "        'svg',\n",
    "        '-//W3C//DTD SVG 1.1//EN',\n",
    "        'http://www.w3.org/Graphics/SVG/1.1/DTD/svg11.dtd'\n",
    "    )\n",
    "    document = imp.createDocument(None, 'svg', doctype)\n",
    "    _set_attributes(document.documentElement, version='1.1',\n",
    "                    xmlns='http://www.w3.org/2000/svg', encoding=\"UTF-8\")\n",
    "    return document\n"
   ]
  },
  {
   "cell_type": "code",
   "execution_count": 56,
   "metadata": {},
   "outputs": [],
   "source": [
    "\n",
    "\n",
    "\n",
    "\n",
    "src = minidom.parse('echoic_backup.svg')\n",
    "svg = src.getElementsByTagName('svg')\n",
    "\n",
    "nodes = svg[0].childNodes\n",
    "\n",
    "#svgTag = '<svg xmlns=\"http://www.w3.org/2000/svg\" width=\"5159.48087\" height=\"4857.94043\" viewBox=\"0 0 5159.48087 4857.94043\">'\n",
    "\n",
    "for n in nodes:\n",
    "    layerName = n.getAttribute('id')\n",
    "    doc = create_svg_object()\n",
    "    root = doc.getElementsByTagName('svg')[0]\n",
    "    root.appendChild(n)\n",
    "    f = open(layerName+'.svg', 'w')\n",
    "    f.write( doc.toprettyxml(encoding='utf8'))\n",
    "    f.close()\n",
    "\n",
    "#\n",
    "\n"
   ]
  },
  {
   "cell_type": "code",
   "execution_count": null,
   "metadata": {},
   "outputs": [],
   "source": [
    "for n in nodes:\n",
    "    if n.hasAttribute('id'):\n",
    "        print( n.getAttribute('id') )\n",
    "    "
   ]
  }
 ],
 "metadata": {
  "kernelspec": {
   "display_name": "Python 2",
   "language": "python",
   "name": "python2"
  },
  "language_info": {
   "codemirror_mode": {
    "name": "ipython",
    "version": 2
   },
   "file_extension": ".py",
   "mimetype": "text/x-python",
   "name": "python",
   "nbconvert_exporter": "python",
   "pygments_lexer": "ipython2",
   "version": "2.7.16"
  }
 },
 "nbformat": 4,
 "nbformat_minor": 2
}
